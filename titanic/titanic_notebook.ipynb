{
 "cells": [
  {
   "cell_type": "markdown",
   "metadata": {
    "collapsed": true
   },
   "source": [
    "#### Problem: Predict the survival of passengers in Titanic.\n",
    "\n",
    "This project is very famous in Kaggle competition and probably most quoted in datascience community.  \n",
    "I have scored 0.79426 for this exercise about 7 months ago using python.  I want to see if I could replicate or even do better on the score. \n",
    "\n",
    "This exercise closely mimics real life situation where data is dirty as in lots of NANs and missing value.\n"
   ]
  },
  {
   "cell_type": "code",
   "execution_count": null,
   "metadata": {},
   "outputs": [],
   "source": [
    ""
   ]
  }
 ],
 "metadata": {
  "kernelspec": {
   "display_name": "Python 2",
   "language": "python",
   "name": "python2"
  },
  "language_info": {
   "codemirror_mode": {
    "name": "ipython",
    "version": 2.0
   },
   "file_extension": ".py",
   "mimetype": "text/x-python",
   "name": "python",
   "nbconvert_exporter": "python",
   "pygments_lexer": "ipython2",
   "version": "2.7.6"
  }
 },
 "nbformat": 4,
 "nbformat_minor": 0
}